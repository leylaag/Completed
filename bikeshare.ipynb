{
 "cells": [
  {
   "cell_type": "code",
   "execution_count": null,
   "metadata": {
    "jupyter": {
     "source_hidden": true
    }
   },
   "outputs": [],
   "source": []
  },
  {
   "cell_type": "markdown",
   "metadata": {},
   "source": [
    "# Project 1 - Query Project\n",
    "\n",
    "The project looks at Lyft Bay Wheels (https://www.lyft.com/bikes/bay-wheels), the company running Bay Area Bikeshare. The goal is to try to increase ridership, and to offer deals through the mobile app to do so.\n",
    "What are the 5 most popular trips that you would call \"commuter trips\"?\n",
    "What are your recommendations for offers (justify based on your findings)? \n",
    "\n",
    "## Dataset\n",
    "We are using the San Franscisco Dataset consisting of 3 tables: \n",
    "* San Francisco.bikeshare_trips\n",
    "* San_Francisco.bikeshare_stations \n",
    "* San_Fancisco.bikeshare_bikes\n",
    "\n",
    "An initial look at the data has told us that: \n",
    "* There are 983,648 trips in the dataset \n",
    "* Lyft Bay Wheels manages 700 bikes\n",
    "* Lyft Bay Wheels manages 75 stations in the San Francisco region\n",
    "\n",
    "## Data validation\n",
    "__Trips__\n",
    "* There were 296 trips that lasted more than 24 hours. While some of these may have been legitimate trips, others were definitely not. Given the small number of trips in this category relative to the total number of trips in the data set, we remove all these trips from our consideration. \n",
    "* No trips lasted less than 60 seconds, which we considered to be a legitimate duration.\n",
    "* We checked whether there were any trips where the end date was before that start date. There were no such trips.\n",
    "\n",
    "**Stations**\n",
    "* There are periods for station 81 during which the numbers of both available bikes and available docks are 0. Since that station did not come into consideration in our analysis, we ignored the problem.\n",
    "\n",
    "**Bikes**\n",
    "* The data does not allow for checking for the number of bikes that are out of service at any given time. We will assume that bikes that are available are in working condition and that all bikes that are not available are being used."
   ]
  },
  {
   "cell_type": "code",
   "execution_count": 295,
   "metadata": {
    "jupyter": {
     "source_hidden": true
    }
   },
   "outputs": [],
   "source": [
    "import pandas as pd\n",
    "from matplotlib import pyplot as plt\n",
    "import matplotlib"
   ]
  },
  {
   "cell_type": "markdown",
   "metadata": {},
   "source": [
    "**Total number of trips, bikes and stations**"
   ]
  },
  {
   "cell_type": "code",
   "execution_count": 317,
   "metadata": {
    "jupyter": {
     "source_hidden": true
    }
   },
   "outputs": [
    {
     "name": "stdout",
     "output_type": "stream",
     "text": [
      "Waiting on bqjob_r675152d7fe7f95e7_00000174e0f94feb_1 ... (0s) Current status: DONE   \n",
      "+--------+\n",
      "| trips  |\n",
      "+--------+\n",
      "| 983648 |\n",
      "+--------+\n",
      "Waiting on bqjob_r3a072a12f44f3211_00000174e0f95846_1 ... (0s) Current status: DONE   \n",
      "+-------+\n",
      "| bikes |\n",
      "+-------+\n",
      "|   700 |\n",
      "+-------+\n",
      "Waiting on bqjob_r3020982efac25f87_00000174e0f96070_1 ... (1s) Current status: DONE   \n",
      "+----------+\n",
      "| stations |\n",
      "+----------+\n",
      "|       75 |\n",
      "+----------+\n"
     ]
    }
   ],
   "source": [
    "!bq query --use_legacy_sql=false 'SELECT count(*)as trips FROM `bigquery-public-data.san_francisco.bikeshare_trips`'\n",
    "! bq query --use_legacy_sql=false 'SELECT count(distinct bike_number) as bikes FROM `bigquery-public-data.san_francisco.bikeshare_trips`'\n",
    "! bq query --use_legacy_sql=false 'SELECT count(distinct station_id) as stations FROM `bigquery-public-data.san_francisco.bikeshare_status`'"
   ]
  },
  {
   "cell_type": "markdown",
   "metadata": {},
   "source": [
    "## When is rush hour in San Francisco?  "
   ]
  },
  {
   "cell_type": "code",
   "execution_count": 301,
   "metadata": {
    "jupyter": {
     "source_hidden": true
    }
   },
   "outputs": [
    {
     "name": "stdout",
     "output_type": "stream",
     "text": [
      "Waiting on bqjob_r477739d258fd6a53_00000174e0ab0799_1 ... (3s) Current status: DONE   \n"
     ]
    }
   ],
   "source": [
    "! bq query --use_legacy_sql=false --format=csv 'select count(distinct trip_id) as num_trips, extract(hour from start_date) as hour_of_day FROM `bigquery-public-data.san_francisco.bikeshare_trips` where extract(dayofweek from start_date) <=5  group by hour_of_day order by num_trips desc' > trips_per_hour.csv"
   ]
  },
  {
   "cell_type": "code",
   "execution_count": 302,
   "metadata": {
    "jupyter": {
     "source_hidden": true
    }
   },
   "outputs": [
    {
     "name": "stdout",
     "output_type": "stream",
     "text": [
      "Populating the interactive namespace from numpy and matplotlib\n",
      "Populating the interactive namespace from numpy and matplotlib\n"
     ]
    },
    {
     "data": {
      "image/png": "[encoded data removed]",
      "text/plain": [
       "<Figure size 720x432 with 1 Axes>"
      ]
     },
     "metadata": {
      "needs_background": "light"
     },
     "output_type": "display_data"
    }
   ],
   "source": [
    "hourly_trips = pd.read_csv(\"trips_per_hour.csv\")\n",
    "%pylab inline\n",
    "pylab.rcParams['figure.figsize'] = (10, 6)\n",
    "%pylab inline\n",
    "pylab.rcParams['figure.figsize'] = (10, 6)\n",
    "fig, ax = plt.subplots()\n",
    "#width = 0.4\n",
    "rects1 = ax.bar(hourly_trips.hour_of_day, hourly_trips.num_trips, label='Weekdays') #, color = \"blue\")\n",
    "#rects2 = ax.bar(we_hourly_trips.hour_of_day + width/2, we_hourly_trips.num_trips, width, label='Week-ends')\n",
    "\n",
    "# Add some text for labels, title and custom x-axis tick labels, etc.\n",
    "ax.set_ylabel('Number of trips')\n",
    "ax.set_xlabel('Hour of the day')\n",
    "ax.set_title('Weekday trips frequencies')\n",
    "ax.set_xticks(hourly_trips.hour_of_day[::])\n",
    "ax.get_yaxis().set_major_formatter(\n",
    "    matplotlib.ticker.FuncFormatter(lambda x, p: format(int(x), ',')))\n",
    "\n",
    "#plt.bar(hourly_trips.hour_of_day,hourly_trips.num_trips)"
   ]
  },
  {
   "cell_type": "markdown",
   "metadata": {},
   "source": [
    "Based on the graph above we defined morning rush hour as the period **between 7AM and 10AM,** and we defined afternoon rush hour as the period **after 4pm (16:00) and before 7pm (19:00)**\n",
    "## Top 5 commuter trips\n",
    "We extracted the top 10 stations with the largest number of trips during morning rush hour, and the top 10 stations with the largest number of trips during afternoon rush hour.\n",
    "We then went through the first set (AM trips), and extracted the trips where the ending station is in the second set (PM trips). Of the resulting set we extracted the top 5 with the largest number of trips in the morning. According to our definitions those are the top 5 commuter trips.\n",
    "\n",
    "**Observations**\n",
    "\n",
    "It makes sense that the AM starting stations are train stations or ferry terminals or a Bart station (Market at Sansome), as commuters arrive by train or ferry and take a bicycle to get to work in the morning and get back to the train or ferry in the evening to go back home. \n",
    "As can be seen, the largest number of AM trips do not necessarily correspond to the largest number of PM trips.\n",
    "* In 3 cases there are fewer PM trips than there are AM trips. We can surmise that most people are in a rush to get to work in the morning and are more likely to walk back after work. This is backed by the short average bike trip length (about 10 minutes).\n",
    "* In the two cases where the trip starts at Townsend and 4th in the morning, there are more returns than departure. As we will later on, the reason could be a lack of available bikes in the morning. \n",
    "* Finally note that the average trip durations are similar. One can attribute the larger differences (of about 1 minute) to the hilly geography of the city. This is in particular notable in the case of the Ferry Terminal which is at the lowest point by virtue of being on the bay."
   ]
  },
  {
   "cell_type": "code",
   "execution_count": 303,
   "metadata": {
    "jupyter": {
     "source_hidden": true
    }
   },
   "outputs": [
    {
     "name": "stdout",
     "output_type": "stream",
     "text": [
      "Waiting on bqjob_r6c8b4790699ce897_00000174e0ab2230_1 ... (0s) Current status: DONE   \n"
     ]
    }
   ],
   "source": [
    "! bq query --use_legacy_sql=false --format=csv 'SELECT start_station_name, end_station_name, count(*) as num_trips, round(avg(duration_sec/60),2) as avg_trip_minutes \\\n",
    "FROM `bigquery-public-data.san_francisco.bikeshare_trips` \\\n",
    "where extract(dayofweek from start_date) <= 5 \\\n",
    "and extract(time from start_date) < cast(\"10:00:00\" as time) \\\n",
    "and extract (time from start_date) > cast(\"07:00:00\" as time) \\\n",
    "group by start_station_name, end_station_name \\\n",
    "order by num_trips desc limit 10'> am.csv\n",
    "! bq query --use_legacy_sql=false --format=csv 'SELECT start_station_name, end_station_name, count(*) as num_trips, round(avg(duration_sec/60),2) as avg_trip_minutes \\\n",
    "FROM `bigquery-public-data.san_francisco.bikeshare_trips` \\\n",
    "where extract(dayofweek from start_date) <= 5 \\\n",
    "and extract(time from start_date) >= cast(\"16:00:00\" as time) \\\n",
    "and extract (time from start_date) < cast(\"19:00:00\" as time) \\\n",
    "group by start_station_name, end_station_name \\\n",
    "order by num_trips desc limit 10'> pm.csv"
   ]
  },
  {
   "cell_type": "markdown",
   "metadata": {},
   "source": [
    "**Top 5 commuter trips**"
   ]
  },
  {
   "cell_type": "code",
   "execution_count": 318,
   "metadata": {
    "jupyter": {
     "source_hidden": true
    }
   },
   "outputs": [
    {
     "data": {
      "text/html": [
       "<style  type=\"text/css\" >\n",
       "</style><table id=\"T_d033393a_0366_11eb_8f62_42010a8e0002\" ><thead>    <tr>        <th class=\"blank level0\" ></th>        <th class=\"col_heading level0 col0\" >AM Start Station</th>        <th class=\"col_heading level0 col1\" >PM Start Station</th>        <th class=\"col_heading level0 col2\" >#AM trips</th>        <th class=\"col_heading level0 col3\" >#PM Trips</th>        <th class=\"col_heading level0 col4\" >Avg AM minutes</th>        <th class=\"col_heading level0 col5\" >Avg PM minutes</th>    </tr></thead><tbody>\n",
       "                <tr>\n",
       "                        <th id=\"T_d033393a_0366_11eb_8f62_42010a8e0002level0_row0\" class=\"row_heading level0 row0\" >0</th>\n",
       "                        <td id=\"T_d033393a_0366_11eb_8f62_42010a8e0002row0_col0\" class=\"data row0 col0\" >Harry Bridges Plaza (Ferry Building)</td>\n",
       "                        <td id=\"T_d033393a_0366_11eb_8f62_42010a8e0002row0_col1\" class=\"data row0 col1\" >2nd at Townsend</td>\n",
       "                        <td id=\"T_d033393a_0366_11eb_8f62_42010a8e0002row0_col2\" class=\"data row0 col2\" >3805</td>\n",
       "                        <td id=\"T_d033393a_0366_11eb_8f62_42010a8e0002row0_col3\" class=\"data row0 col3\" >3552</td>\n",
       "                        <td id=\"T_d033393a_0366_11eb_8f62_42010a8e0002row0_col4\" class=\"data row0 col4\" >9.48</td>\n",
       "                        <td id=\"T_d033393a_0366_11eb_8f62_42010a8e0002row0_col5\" class=\"data row0 col5\" >8.23</td>\n",
       "            </tr>\n",
       "            <tr>\n",
       "                        <th id=\"T_d033393a_0366_11eb_8f62_42010a8e0002level0_row1\" class=\"row_heading level0 row1\" >1</th>\n",
       "                        <td id=\"T_d033393a_0366_11eb_8f62_42010a8e0002row1_col0\" class=\"data row1 col0\" >San Francisco Caltrain 2 (330 Townsend)</td>\n",
       "                        <td id=\"T_d033393a_0366_11eb_8f62_42010a8e0002row1_col1\" class=\"data row1 col1\" >Townsend at 7th</td>\n",
       "                        <td id=\"T_d033393a_0366_11eb_8f62_42010a8e0002row1_col2\" class=\"data row1 col2\" >2932</td>\n",
       "                        <td id=\"T_d033393a_0366_11eb_8f62_42010a8e0002row1_col3\" class=\"data row1 col3\" >2374</td>\n",
       "                        <td id=\"T_d033393a_0366_11eb_8f62_42010a8e0002row1_col4\" class=\"data row1 col4\" >4.67</td>\n",
       "                        <td id=\"T_d033393a_0366_11eb_8f62_42010a8e0002row1_col5\" class=\"data row1 col5\" >4.43</td>\n",
       "            </tr>\n",
       "            <tr>\n",
       "                        <th id=\"T_d033393a_0366_11eb_8f62_42010a8e0002level0_row2\" class=\"row_heading level0 row2\" >2</th>\n",
       "                        <td id=\"T_d033393a_0366_11eb_8f62_42010a8e0002row2_col0\" class=\"data row2 col0\" >San Francisco Caltrain (Townsend at 4th)</td>\n",
       "                        <td id=\"T_d033393a_0366_11eb_8f62_42010a8e0002row2_col1\" class=\"data row2 col1\" >Embarcadero at Folsom</td>\n",
       "                        <td id=\"T_d033393a_0366_11eb_8f62_42010a8e0002row2_col2\" class=\"data row2 col2\" >2733</td>\n",
       "                        <td id=\"T_d033393a_0366_11eb_8f62_42010a8e0002row2_col3\" class=\"data row2 col3\" >3371</td>\n",
       "                        <td id=\"T_d033393a_0366_11eb_8f62_42010a8e0002row2_col4\" class=\"data row2 col4\" >10.45</td>\n",
       "                        <td id=\"T_d033393a_0366_11eb_8f62_42010a8e0002row2_col5\" class=\"data row2 col5\" >11.04</td>\n",
       "            </tr>\n",
       "            <tr>\n",
       "                        <th id=\"T_d033393a_0366_11eb_8f62_42010a8e0002level0_row3\" class=\"row_heading level0 row3\" >3</th>\n",
       "                        <td id=\"T_d033393a_0366_11eb_8f62_42010a8e0002row3_col0\" class=\"data row3 col0\" >San Francisco Caltrain (Townsend at 4th)</td>\n",
       "                        <td id=\"T_d033393a_0366_11eb_8f62_42010a8e0002row3_col1\" class=\"data row3 col1\" >Temporary Transbay Terminal (Howard at Beale)</td>\n",
       "                        <td id=\"T_d033393a_0366_11eb_8f62_42010a8e0002row3_col2\" class=\"data row3 col2\" >2584</td>\n",
       "                        <td id=\"T_d033393a_0366_11eb_8f62_42010a8e0002row3_col3\" class=\"data row3 col3\" >2839</td>\n",
       "                        <td id=\"T_d033393a_0366_11eb_8f62_42010a8e0002row3_col4\" class=\"data row3 col4\" >11.45</td>\n",
       "                        <td id=\"T_d033393a_0366_11eb_8f62_42010a8e0002row3_col5\" class=\"data row3 col5\" >10.94</td>\n",
       "            </tr>\n",
       "            <tr>\n",
       "                        <th id=\"T_d033393a_0366_11eb_8f62_42010a8e0002level0_row4\" class=\"row_heading level0 row4\" >4</th>\n",
       "                        <td id=\"T_d033393a_0366_11eb_8f62_42010a8e0002row4_col0\" class=\"data row4 col0\" >Market at Sansome</td>\n",
       "                        <td id=\"T_d033393a_0366_11eb_8f62_42010a8e0002row4_col1\" class=\"data row4 col1\" >2nd at South Park</td>\n",
       "                        <td id=\"T_d033393a_0366_11eb_8f62_42010a8e0002row4_col2\" class=\"data row4 col2\" >2397</td>\n",
       "                        <td id=\"T_d033393a_0366_11eb_8f62_42010a8e0002row4_col3\" class=\"data row4 col3\" >2671</td>\n",
       "                        <td id=\"T_d033393a_0366_11eb_8f62_42010a8e0002row4_col4\" class=\"data row4 col4\" >5.99</td>\n",
       "                        <td id=\"T_d033393a_0366_11eb_8f62_42010a8e0002row4_col5\" class=\"data row4 col5\" >6.99</td>\n",
       "            </tr>\n",
       "    </tbody></table>"
      ],
      "text/plain": [
       "<pandas.io.formats.style.Styler at 0x7fa319f619d0>"
      ]
     },
     "execution_count": 318,
     "metadata": {},
     "output_type": "execute_result"
    }
   ],
   "source": [
    "# Find round trips common to AM and PM sets\n",
    "am_trips = pd.read_csv(\"am.csv\")\n",
    "pm_trips= pd.read_csv(\"pm.csv\")\n",
    "am_trips\n",
    "pm_trips\n",
    "round_trip = pd.DataFrame(columns = [\"AM Start Station\",\"PM Start Station\", \"#AM trips\", \"#PM Trips\", \"Avg AM minutes\",\"Avg PM minutes\"])\n",
    "x=[]\n",
    "k=0\n",
    "for i in range(10):\n",
    "    for j in range(10):\n",
    "        if (am_trips.start_station_name[i] == pm_trips.end_station_name[j]) and (am_trips.end_station_name[i] == pm_trips.start_station_name[j]):\n",
    "            round_trip.loc[len(round_trip)] = \\\n",
    "            [am_trips.start_station_name[i], am_trips.end_station_name[i], am_trips.num_trips[i], pm_trips.num_trips[j],\\\n",
    "             am_trips.avg_trip_minutes[i], pm_trips.avg_trip_minutes[j]]\n",
    "\n",
    "round_trip.to_csv(\"top_commutes.csv\")\n",
    "round_trip[0:5].style.format({'Avg AM minutes':'{:.2f}','Avg PM minutes':'{:.2f}'} )\n",
    "      \n"
   ]
  },
  {
   "cell_type": "markdown",
   "metadata": {},
   "source": [
    "# Non subscribers trips on weekdays and recommendation\n",
    "We looked at the number of non-subscribers using bikeshare on weekdays. We found that the pattern of the trip frequencies is different for this segment of sharebike users, with a peak between 1pm and 4pm (see graph below). \n",
    "While they represent a very small portion of the total number of trips during rush hour, in the daytime off-peak off peak hours (between 10am and 3pm) over 20% of the trips are by non-subscribers.\n",
    "* Since the total number of trips is relatively low at those times, the company may consider offering a **reduced price subscription for those hours only**\n",
    "* Furthermore, since the average duration of the trips is around 60 minutes (see box below,) the company may consider offering the **choice of a trip up to 60 minutes** at the appropriate price for non_subscribers"
   ]
  },
  {
   "cell_type": "code",
   "execution_count": 314,
   "metadata": {
    "jupyter": {
     "source_hidden": true
    }
   },
   "outputs": [
    {
     "name": "stdout",
     "output_type": "stream",
     "text": [
      "Waiting on bqjob_r86a6d2292b57262_00000174e0c290e1_1 ... (0s) Current status: DONE   \n",
      "Waiting on bqjob_r15da2aa0a3c27b63_00000174e0c298f5_1 ... (0s) Current status: DONE   \n",
      "Populating the interactive namespace from numpy and matplotlib\n"
     ]
    },
    {
     "data": {
      "image/png": "[encoded data removed]",
      "text/plain": [
       "<Figure size 720x432 with 1 Axes>"
      ]
     },
     "metadata": {
      "needs_background": "light"
     },
     "output_type": "display_data"
    }
   ],
   "source": [
    "! bq query --use_legacy_sql=false --format=csv 'select count(distinct trip_id) as num_trips, extract(hour from start_date) as hour_of_day FROM `bigquery-public-data.san_francisco.bikeshare_trips` where subscriber_type=\"Customer\" group by hour_of_day order by hour_of_day' > no_sub_per_hour.csv\n",
    "! bq query --use_legacy_sql=false --format=csv 'select count(distinct trip_id) as num_trips, extract(hour from start_date) as hour_of_day FROM `bigquery-public-data.san_francisco.bikeshare_trips` where subscriber_type=\"Subscriber\" group by hour_of_day order by hour_of_day' > sub_per_hour.csv\n",
    "nosub_hourly_trips = pd.read_csv(\"no_sub_per_hour.csv\")\n",
    "sub_hourly_trips = pd.read_csv(\"sub_per_hour.csv\")\n",
    "%pylab inline\n",
    "pylab.rcParams['figure.figsize'] = (10, 6)\n",
    "fig, ax = plt.subplots()\n",
    "width = 0.3\n",
    "rects1 = ax.bar(sub_hourly_trips.hour_of_day - width/2, sub_hourly_trips.num_trips, width, label='Subscribers')\n",
    "rects2 = ax.bar(nosub_hourly_trips.hour_of_day + width/2, nosub_hourly_trips.num_trips, width, label='Non-subscribers')\n",
    "\n",
    "# Add some text for labels, title and custom x-axis tick labels, etc.\n",
    "ax.set_ylabel('Number of trips')\n",
    "ax.set_xlabel('Hour')\n",
    "ax.set_title('Subscribers and Customers trips')\n",
    "ax.set_xticks(hourly_trips.hour_of_day[::])\n",
    "#ax.set_xticklabels(labels)\n",
    "ax.legend()\n",
    "ax.get_yaxis().set_major_formatter(\n",
    "    matplotlib.ticker.FuncFormatter(lambda x, p: format(int(x), ',')))\n"
   ]
  },
  {
   "cell_type": "markdown",
   "metadata": {},
   "source": [
    "**Number and duration of weekday trips by non-subscribers**"
   ]
  },
  {
   "cell_type": "code",
   "execution_count": 113,
   "metadata": {
    "jupyter": {
     "source_hidden": true
    }
   },
   "outputs": [
    {
     "name": "stdout",
     "output_type": "stream",
     "text": [
      "Waiting on bqjob_rc32ad059a0b8cb7_00000174db74a02e_1 ... (1s) Current status: DONE   \n",
      "+-----------+-------------+----------+\n",
      "| num_trips | hour_of_day | duration |\n",
      "+-----------+-------------+----------+\n",
      "|      8059 |          16 |    47.47 |\n",
      "|      8025 |          15 |    52.38 |\n",
      "|      7726 |          13 |    63.98 |\n",
      "|      7689 |          12 |    61.44 |\n",
      "|      7686 |          14 |    61.07 |\n",
      "|      7594 |          17 |    40.43 |\n",
      "|      6881 |          11 |    71.39 |\n",
      "|      5899 |          18 |    40.92 |\n",
      "|      5306 |          10 |    81.98 |\n",
      "|      4337 |           9 |     63.0 |\n",
      "|      3863 |           8 |    44.45 |\n",
      "|      3653 |          19 |    39.05 |\n",
      "+-----------+-------------+----------+\n"
     ]
    }
   ],
   "source": [
    "! bq query --use_legacy_sql=false 'select count(distinct trip_id) as num_trips, extract(hour from start_date) as hour_of_day, round(avg(duration_sec/60),2) as duration \\\n",
    "FROM `bigquery-public-data.san_francisco.bikeshare_trips` \\\n",
    "where subscriber_type=\"Customer\" \\\n",
    "and extract(dayofweek from start_date) <= 5 \\\n",
    "group by hour_of_day order by num_trips desc limit 12' "
   ]
  },
  {
   "cell_type": "code",
   "execution_count": null,
   "metadata": {
    "jupyter": {
     "source_hidden": true
    }
   },
   "outputs": [],
   "source": [
    "! bq query --use_legacy_sql=false --format=csv 'SELECT distinct extract(dayofweek from start_date) as week_day, count(*) as num_trips, avg(duration_sec) as trip_time FROM `bigquery-public-data.san_francisco.bikeshare_trips` where start_station_name = \"2nd at Townsend\" and end_station_name = \"Harry Bridges Plaza (Ferry Building)\" and extract(time from start_date) > cast(\"16:00:00\" as time) and extract (time from start_date) < cast(\"07:00:00\" as time) group by week_day order by week_day'> weekday.csv\n"
   ]
  },
  {
   "cell_type": "code",
   "execution_count": null,
   "metadata": {
    "jupyter": {
     "source_hidden": true
    }
   },
   "outputs": [],
   "source": [
    "! bq query --use_legacy_sql=false --format=csv 'SELECT extract(dayofweek from start_date) as week_day, count(*) as num_trips, avg(duration_sec) as trip_time FROM `bigquery-public-data.san_francisco.bikeshare_trips` where start_station_name = \"2nd at Townsend\" and end_station_name = \"Harry Bridges Plaza (Ferry Building)\" and extract(time from start_date) > cast(\"16:00:00\" as time) group by week_day order by week_day'> weekday.csv\n"
   ]
  },
  {
   "cell_type": "markdown",
   "metadata": {},
   "source": [
    "# Bike availability during rush hour and recommendation"
   ]
  },
  {
   "cell_type": "markdown",
   "metadata": {},
   "source": [
    "We goal of this part of the analysis was to determine whether Lyft bikeshare is limiting their client base because potential users cannot find available bikes at their departure stations or lose time finding a docking station for their bikes at their destinations. \n",
    "\n",
    "**Analysis**\n",
    "We extracted the top 12 departure stations during rush hour in terms of number of trips starting there and compared the number of times there were no bikes available at these stations during the same period.  \n",
    "We also extracted the top 12 destination stations during rush hour in terms of number of trips ending there and compared the number of times there were no docks available at these stations during the same period.\n",
    "We chose a larger number of destination to be able to identify the top 5 stations that need both more bikes and more docks since in that case the addition of new docks/bikes would be less likely to result in unused bikes or empty docks. However, not surprisingly, the same stations that had not bikes in the morning had no docks in the afternoon and vice versa. So the table below shows the top 12 stations in our analysis.\n",
    "\n",
    "**Conclusion**\n",
    "The analysis shows that, for example, while about 43,000 trips started at the **Townsend and 4th** station, there were close to 15,000 instances (more than 30%) of no bike being available. Similarly, with 55,000 trips ending at that station, about 10,000 times there were no docks available (about 20%). \n",
    "The **Ferry building (Harry Plaza)** is another case with the number of times there were no bikes available was about 25% of the total number of trips starting there and the cases of no docks available was close to 30% of the total number of trips ending there. \n",
    "\n",
    "In these two cases it is very likely that the **demand is there**, and that Lyft Wheels would benefit from adding new bikes/dock stations. We suggest a deeper analysis to determine the **optimal number of docks that should be added to satisfy that demand**. \n",
    "\n",
    "**Critique**\n",
    "Counting the number of times there were no bikes or docks available does not determine the actual number of cases where demand was not satisfied. For that we should have looked at the length of time during which which there was no availability and also determine or obtain the potential number of requests per unit of time. This latter piece of information was not available.  "
   ]
  },
  {
   "cell_type": "markdown",
   "metadata": {},
   "source": [
    "**Rush hour top starting and top ending stations**"
   ]
  },
  {
   "cell_type": "code",
   "execution_count": 270,
   "metadata": {
    "jupyter": {
     "source_hidden": true
    }
   },
   "outputs": [
    {
     "name": "stdout",
     "output_type": "stream",
     "text": [
      "Waiting on bqjob_r2dd35ea3f958273f_00000174e063d7ca_1 ... (0s) Current status: DONE   \n",
      "Waiting on bqjob_r5a814b2591d73a66_00000174e063dffe_1 ... (1s) Current status: DONE   \n"
     ]
    }
   ],
   "source": [
    "! bq query --use_legacy_sql=false --format=csv 'SELECT start_station_name, start_station_id, count(*) as num_trips \\\n",
    "FROM `bigquery-public-data.san_francisco.bikeshare_trips` \\\n",
    "where extract(dayofweek from start_date) <= 5 \\\n",
    "and (extract(time from start_date) between cast(\"07:00:00\" as time) and cast(\"10:00:00\" as time) \\\n",
    "or extract(time from start_date) between cast(\"16:00:00\" as time) and cast(\"19:00:00\" as time)) \\\n",
    "group by start_station_name, start_station_id \\\n",
    "order by num_trips desc limit 12'> starts.csv\n",
    "! bq query --use_legacy_sql=false --format=csv 'SELECT end_station_name, end_station_id, count(*) as end_trips \\\n",
    "FROM `bigquery-public-data.san_francisco.bikeshare_trips` \\\n",
    "where extract(dayofweek from start_date) <= 5 \\\n",
    "and (extract(time from start_date) between cast(\"07:00:00\" as time) and cast(\"10:00:00\" as time) \\\n",
    "or extract(time from start_date) between cast(\"16:00:00\" as time) and cast(\"19:00:00\" as time)) \\\n",
    "group by end_station_name, end_station_id \\\n",
    "order by end_trips desc limit 12'> ends.csv"
   ]
  },
  {
   "cell_type": "markdown",
   "metadata": {},
   "source": [
    "**Number of times there were no bikes available and number of times there no docks available during rush hour**"
   ]
  },
  {
   "cell_type": "code",
   "execution_count": 266,
   "metadata": {
    "jupyter": {
     "source_hidden": true
    }
   },
   "outputs": [
    {
     "name": "stdout",
     "output_type": "stream",
     "text": [
      "Waiting on bqjob_r5def018017aa99ff_00000174e05e8cd1_1 ... (0s) Current status: DONE   \n",
      "Waiting on bqjob_r35c9a19e6e3cd3de_00000174e05e94d3_1 ... (1s) Current status: DONE   \n"
     ]
    }
   ],
   "source": [
    "! bq query --use_legacy_sql=false --format=csv 'select station_id, count(time) as zero_bike \\\n",
    "FROM `bigquery-public-data.san_francisco.bikeshare_status` \\\n",
    "where bikes_available = 0 \\\n",
    "and extract(dayofweek from time) <= 5 \\\n",
    "and (extract(time from time) between cast(\"07:00:00\" as time) and cast(\"10:00:00\" as time) \\\n",
    "or extract(time from time) between cast(\"16:00:00\" as time) and cast(\"19:00:00\" as time)) \\\n",
    "group by station_id \\\n",
    "order by zero_bike desc' > nobikes.csv\n",
    "! bq query --use_legacy_sql=false --format=csv 'select station_id, count(time) as zero_dock \\\n",
    "FROM `bigquery-public-data.san_francisco.bikeshare_status` \\\n",
    "where docks_available = 0 \\\n",
    "and extract(dayofweek from time) <= 5 \\\n",
    "and (extract(time from time) between cast(\"07:00:00\" as time) and cast(\"10:00:00\" as time) \\\n",
    "or extract(time from time) between cast(\"16:00:00\" as time) and cast(\"19:00:00\" as time)) \\\n",
    "group by station_id \\\n",
    "order by zero_dock desc' > nodocks.csv"
   ]
  },
  {
   "cell_type": "markdown",
   "metadata": {},
   "source": [
    "**Results**"
   ]
  },
  {
   "cell_type": "code",
   "execution_count": 293,
   "metadata": {
    "jupyter": {
     "source_hidden": true
    }
   },
   "outputs": [
    {
     "name": "stderr",
     "output_type": "stream",
     "text": [
      "/opt/conda/lib/python3.7/site-packages/ipykernel_launcher.py:31: SettingWithCopyWarning: \n",
      "A value is trying to be set on a copy of a slice from a DataFrame\n",
      "\n",
      "See the caveats in the documentation: https://pandas.pydata.org/pandas-docs/stable/user_guide/indexing.html#returning-a-view-versus-a-copy\n",
      "/opt/conda/lib/python3.7/site-packages/ipykernel_launcher.py:32: SettingWithCopyWarning: \n",
      "A value is trying to be set on a copy of a slice from a DataFrame\n",
      "\n",
      "See the caveats in the documentation: https://pandas.pydata.org/pandas-docs/stable/user_guide/indexing.html#returning-a-view-versus-a-copy\n"
     ]
    },
    {
     "data": {
      "text/html": [
       "<style  type=\"text/css\" >\n",
       "</style><table id=\"T_d8061dca_0358_11eb_8f62_42010a8e0002\" ><thead>    <tr>        <th class=\"blank level0\" ></th>        <th class=\"col_heading level0 col0\" >Station_name</th>        <th class=\"col_heading level0 col1\" >station_id</th>        <th class=\"col_heading level0 col2\" >started_trips</th>        <th class=\"col_heading level0 col3\" >nobikes</th>        <th class=\"col_heading level0 col4\" >ended_trips</th>        <th class=\"col_heading level0 col5\" >nodocks</th>    </tr></thead><tbody>\n",
       "                <tr>\n",
       "                        <th id=\"T_d8061dca_0358_11eb_8f62_42010a8e0002level0_row0\" class=\"row_heading level0 row0\" >0</th>\n",
       "                        <td id=\"T_d8061dca_0358_11eb_8f62_42010a8e0002row0_col0\" class=\"data row0 col0\" >San Francisco Caltrain (Townsend at 4th)</td>\n",
       "                        <td id=\"T_d8061dca_0358_11eb_8f62_42010a8e0002row0_col1\" class=\"data row0 col1\" >70</td>\n",
       "                        <td id=\"T_d8061dca_0358_11eb_8f62_42010a8e0002row0_col2\" class=\"data row0 col2\" >43700</td>\n",
       "                        <td id=\"T_d8061dca_0358_11eb_8f62_42010a8e0002row0_col3\" class=\"data row0 col3\" >14935</td>\n",
       "                        <td id=\"T_d8061dca_0358_11eb_8f62_42010a8e0002row0_col4\" class=\"data row0 col4\" >55192</td>\n",
       "                        <td id=\"T_d8061dca_0358_11eb_8f62_42010a8e0002row0_col5\" class=\"data row0 col5\" >10132</td>\n",
       "            </tr>\n",
       "            <tr>\n",
       "                        <th id=\"T_d8061dca_0358_11eb_8f62_42010a8e0002level0_row1\" class=\"row_heading level0 row1\" >1</th>\n",
       "                        <td id=\"T_d8061dca_0358_11eb_8f62_42010a8e0002row1_col0\" class=\"data row1 col0\" >San Francisco Caltrain 2 (330 Townsend)</td>\n",
       "                        <td id=\"T_d8061dca_0358_11eb_8f62_42010a8e0002row1_col1\" class=\"data row1 col1\" >69</td>\n",
       "                        <td id=\"T_d8061dca_0358_11eb_8f62_42010a8e0002row1_col2\" class=\"data row1 col2\" >33961</td>\n",
       "                        <td id=\"T_d8061dca_0358_11eb_8f62_42010a8e0002row1_col3\" class=\"data row1 col3\" >10028</td>\n",
       "                        <td id=\"T_d8061dca_0358_11eb_8f62_42010a8e0002row1_col4\" class=\"data row1 col4\" >35855</td>\n",
       "                        <td id=\"T_d8061dca_0358_11eb_8f62_42010a8e0002row1_col5\" class=\"data row1 col5\" >5587</td>\n",
       "            </tr>\n",
       "            <tr>\n",
       "                        <th id=\"T_d8061dca_0358_11eb_8f62_42010a8e0002level0_row2\" class=\"row_heading level0 row2\" >2</th>\n",
       "                        <td id=\"T_d8061dca_0358_11eb_8f62_42010a8e0002row2_col0\" class=\"data row2 col0\" >Temporary Transbay Terminal (Howard at Beale)</td>\n",
       "                        <td id=\"T_d8061dca_0358_11eb_8f62_42010a8e0002row2_col1\" class=\"data row2 col1\" >55</td>\n",
       "                        <td id=\"T_d8061dca_0358_11eb_8f62_42010a8e0002row2_col2\" class=\"data row2 col2\" >24367</td>\n",
       "                        <td id=\"T_d8061dca_0358_11eb_8f62_42010a8e0002row2_col3\" class=\"data row2 col3\" >11769</td>\n",
       "                        <td id=\"T_d8061dca_0358_11eb_8f62_42010a8e0002row2_col4\" class=\"data row2 col4\" >20762</td>\n",
       "                        <td id=\"T_d8061dca_0358_11eb_8f62_42010a8e0002row2_col5\" class=\"data row2 col5\" >1451</td>\n",
       "            </tr>\n",
       "            <tr>\n",
       "                        <th id=\"T_d8061dca_0358_11eb_8f62_42010a8e0002level0_row3\" class=\"row_heading level0 row3\" >3</th>\n",
       "                        <td id=\"T_d8061dca_0358_11eb_8f62_42010a8e0002row3_col0\" class=\"data row3 col0\" >Harry Bridges Plaza (Ferry Building)</td>\n",
       "                        <td id=\"T_d8061dca_0358_11eb_8f62_42010a8e0002row3_col1\" class=\"data row3 col1\" >50</td>\n",
       "                        <td id=\"T_d8061dca_0358_11eb_8f62_42010a8e0002row3_col2\" class=\"data row3 col2\" >23463</td>\n",
       "                        <td id=\"T_d8061dca_0358_11eb_8f62_42010a8e0002row3_col3\" class=\"data row3 col3\" >6276</td>\n",
       "                        <td id=\"T_d8061dca_0358_11eb_8f62_42010a8e0002row3_col4\" class=\"data row3 col4\" >23012</td>\n",
       "                        <td id=\"T_d8061dca_0358_11eb_8f62_42010a8e0002row3_col5\" class=\"data row3 col5\" >7319</td>\n",
       "            </tr>\n",
       "            <tr>\n",
       "                        <th id=\"T_d8061dca_0358_11eb_8f62_42010a8e0002level0_row4\" class=\"row_heading level0 row4\" >4</th>\n",
       "                        <td id=\"T_d8061dca_0358_11eb_8f62_42010a8e0002row4_col0\" class=\"data row4 col0\" >Steuart at Market</td>\n",
       "                        <td id=\"T_d8061dca_0358_11eb_8f62_42010a8e0002row4_col1\" class=\"data row4 col1\" >74</td>\n",
       "                        <td id=\"T_d8061dca_0358_11eb_8f62_42010a8e0002row4_col2\" class=\"data row4 col2\" >21460</td>\n",
       "                        <td id=\"T_d8061dca_0358_11eb_8f62_42010a8e0002row4_col3\" class=\"data row4 col3\" >4947</td>\n",
       "                        <td id=\"T_d8061dca_0358_11eb_8f62_42010a8e0002row4_col4\" class=\"data row4 col4\" >21720</td>\n",
       "                        <td id=\"T_d8061dca_0358_11eb_8f62_42010a8e0002row4_col5\" class=\"data row4 col5\" >2093</td>\n",
       "            </tr>\n",
       "            <tr>\n",
       "                        <th id=\"T_d8061dca_0358_11eb_8f62_42010a8e0002level0_row5\" class=\"row_heading level0 row5\" >5</th>\n",
       "                        <td id=\"T_d8061dca_0358_11eb_8f62_42010a8e0002row5_col0\" class=\"data row5 col0\" >2nd at Townsend</td>\n",
       "                        <td id=\"T_d8061dca_0358_11eb_8f62_42010a8e0002row5_col1\" class=\"data row5 col1\" >61</td>\n",
       "                        <td id=\"T_d8061dca_0358_11eb_8f62_42010a8e0002row5_col2\" class=\"data row5 col2\" >20743</td>\n",
       "                        <td id=\"T_d8061dca_0358_11eb_8f62_42010a8e0002row5_col3\" class=\"data row5 col3\" >3690</td>\n",
       "                        <td id=\"T_d8061dca_0358_11eb_8f62_42010a8e0002row5_col4\" class=\"data row5 col4\" >22769</td>\n",
       "                        <td id=\"T_d8061dca_0358_11eb_8f62_42010a8e0002row5_col5\" class=\"data row5 col5\" >744</td>\n",
       "            </tr>\n",
       "            <tr>\n",
       "                        <th id=\"T_d8061dca_0358_11eb_8f62_42010a8e0002level0_row6\" class=\"row_heading level0 row6\" >6</th>\n",
       "                        <td id=\"T_d8061dca_0358_11eb_8f62_42010a8e0002row6_col0\" class=\"data row6 col0\" >Townsend at 7th</td>\n",
       "                        <td id=\"T_d8061dca_0358_11eb_8f62_42010a8e0002row6_col1\" class=\"data row6 col1\" >65</td>\n",
       "                        <td id=\"T_d8061dca_0358_11eb_8f62_42010a8e0002row6_col2\" class=\"data row6 col2\" >17398</td>\n",
       "                        <td id=\"T_d8061dca_0358_11eb_8f62_42010a8e0002row6_col3\" class=\"data row6 col3\" >10225</td>\n",
       "                        <td id=\"T_d8061dca_0358_11eb_8f62_42010a8e0002row6_col4\" class=\"data row6 col4\" >20443</td>\n",
       "                        <td id=\"T_d8061dca_0358_11eb_8f62_42010a8e0002row6_col5\" class=\"data row6 col5\" >3479</td>\n",
       "            </tr>\n",
       "            <tr>\n",
       "                        <th id=\"T_d8061dca_0358_11eb_8f62_42010a8e0002level0_row7\" class=\"row_heading level0 row7\" >7</th>\n",
       "                        <td id=\"T_d8061dca_0358_11eb_8f62_42010a8e0002row7_col0\" class=\"data row7 col0\" >Embarcadero at Sansome</td>\n",
       "                        <td id=\"T_d8061dca_0358_11eb_8f62_42010a8e0002row7_col1\" class=\"data row7 col1\" >60</td>\n",
       "                        <td id=\"T_d8061dca_0358_11eb_8f62_42010a8e0002row7_col2\" class=\"data row7 col2\" >16612</td>\n",
       "                        <td id=\"T_d8061dca_0358_11eb_8f62_42010a8e0002row7_col3\" class=\"data row7 col3\" >13933</td>\n",
       "                        <td id=\"T_d8061dca_0358_11eb_8f62_42010a8e0002row7_col4\" class=\"data row7 col4\" >17998</td>\n",
       "                        <td id=\"T_d8061dca_0358_11eb_8f62_42010a8e0002row7_col5\" class=\"data row7 col5\" >3771</td>\n",
       "            </tr>\n",
       "            <tr>\n",
       "                        <th id=\"T_d8061dca_0358_11eb_8f62_42010a8e0002level0_row8\" class=\"row_heading level0 row8\" >8</th>\n",
       "                        <td id=\"T_d8061dca_0358_11eb_8f62_42010a8e0002row8_col0\" class=\"data row8 col0\" >Market at Sansome</td>\n",
       "                        <td id=\"T_d8061dca_0358_11eb_8f62_42010a8e0002row8_col1\" class=\"data row8 col1\" >77</td>\n",
       "                        <td id=\"T_d8061dca_0358_11eb_8f62_42010a8e0002row8_col2\" class=\"data row8 col2\" >16043</td>\n",
       "                        <td id=\"T_d8061dca_0358_11eb_8f62_42010a8e0002row8_col3\" class=\"data row8 col3\" >1007</td>\n",
       "                        <td id=\"T_d8061dca_0358_11eb_8f62_42010a8e0002row8_col4\" class=\"data row8 col4\" >20020</td>\n",
       "                        <td id=\"T_d8061dca_0358_11eb_8f62_42010a8e0002row8_col5\" class=\"data row8 col5\" >1220</td>\n",
       "            </tr>\n",
       "            <tr>\n",
       "                        <th id=\"T_d8061dca_0358_11eb_8f62_42010a8e0002level0_row9\" class=\"row_heading level0 row9\" >9</th>\n",
       "                        <td id=\"T_d8061dca_0358_11eb_8f62_42010a8e0002row9_col0\" class=\"data row9 col0\" >Market at 10th</td>\n",
       "                        <td id=\"T_d8061dca_0358_11eb_8f62_42010a8e0002row9_col1\" class=\"data row9 col1\" >67</td>\n",
       "                        <td id=\"T_d8061dca_0358_11eb_8f62_42010a8e0002row9_col2\" class=\"data row9 col2\" >14449</td>\n",
       "                        <td id=\"T_d8061dca_0358_11eb_8f62_42010a8e0002row9_col3\" class=\"data row9 col3\" >9059</td>\n",
       "                        <td id=\"T_d8061dca_0358_11eb_8f62_42010a8e0002row9_col4\" class=\"data row9 col4\" >11512</td>\n",
       "                        <td id=\"T_d8061dca_0358_11eb_8f62_42010a8e0002row9_col5\" class=\"data row9 col5\" >50</td>\n",
       "            </tr>\n",
       "            <tr>\n",
       "                        <th id=\"T_d8061dca_0358_11eb_8f62_42010a8e0002level0_row10\" class=\"row_heading level0 row10\" >10</th>\n",
       "                        <td id=\"T_d8061dca_0358_11eb_8f62_42010a8e0002row10_col0\" class=\"data row10 col0\" >2nd at South Park</td>\n",
       "                        <td id=\"T_d8061dca_0358_11eb_8f62_42010a8e0002row10_col1\" class=\"data row10 col1\" >64</td>\n",
       "                        <td id=\"T_d8061dca_0358_11eb_8f62_42010a8e0002row10_col2\" class=\"data row10 col2\" >12859</td>\n",
       "                        <td id=\"T_d8061dca_0358_11eb_8f62_42010a8e0002row10_col3\" class=\"data row10 col3\" >9584</td>\n",
       "                        <td id=\"T_d8061dca_0358_11eb_8f62_42010a8e0002row10_col4\" class=\"data row10 col4\" >11384</td>\n",
       "                        <td id=\"T_d8061dca_0358_11eb_8f62_42010a8e0002row10_col5\" class=\"data row10 col5\" >3082</td>\n",
       "            </tr>\n",
       "            <tr>\n",
       "                        <th id=\"T_d8061dca_0358_11eb_8f62_42010a8e0002level0_row11\" class=\"row_heading level0 row11\" >11</th>\n",
       "                        <td id=\"T_d8061dca_0358_11eb_8f62_42010a8e0002row11_col0\" class=\"data row11 col0\" >Beale at Market</td>\n",
       "                        <td id=\"T_d8061dca_0358_11eb_8f62_42010a8e0002row11_col1\" class=\"data row11 col1\" >56</td>\n",
       "                        <td id=\"T_d8061dca_0358_11eb_8f62_42010a8e0002row11_col2\" class=\"data row11 col2\" >11815</td>\n",
       "                        <td id=\"T_d8061dca_0358_11eb_8f62_42010a8e0002row11_col3\" class=\"data row11 col3\" >8400</td>\n",
       "                        <td id=\"T_d8061dca_0358_11eb_8f62_42010a8e0002row11_col4\" class=\"data row11 col4\" >0</td>\n",
       "                        <td id=\"T_d8061dca_0358_11eb_8f62_42010a8e0002row11_col5\" class=\"data row11 col5\" >0</td>\n",
       "            </tr>\n",
       "    </tbody></table>"
      ],
      "text/plain": [
       "<pandas.io.formats.style.Styler at 0x7fa31a97ee90>"
      ]
     },
     "execution_count": 293,
     "metadata": {},
     "output_type": "execute_result"
    }
   ],
   "source": [
    "## combine the data sets\n",
    "nobikes = pd.read_csv(\"nobikes.csv\")\n",
    "trips= pd.read_csv(\"starts.csv\")\n",
    "nobikes['station_id'] = nobikes['station_id'].astype('int')\n",
    "trips['start_station_id'] = trips['start_station_id'].astype('int')\n",
    "trips.set_index('start_station_id')\n",
    "\n",
    "x=[0]*12\n",
    "for i in range(12):\n",
    "    for j in range(len(nobikes.station_id)):\n",
    "        if (trips.start_station_id[i] == nobikes.station_id[j]):\n",
    "            x[i]=nobikes.zero_bike[j]\n",
    "trips[\"nobikes\"] = x\n",
    "trips[\"nodocks\"] = [0]*12\n",
    "trips[\"ended_trips\"] = [0]*12\n",
    "trips.columns=[\"Station_name\",\"station_id\",\"started_trips\",\"nobikes\", \"ended_trips\",\"nodocks\"]\n",
    "\n",
    "nodocks = pd.read_csv(\"nodocks.csv\")\n",
    "trips1 = pd.read_csv(\"ends.csv\")\n",
    "nodocks['station_id'] = nodocks['station_id'].astype('int')\n",
    "trips1['end_station_id'] = trips1['end_station_id'].astype('int')\n",
    "\n",
    "x=[0]*12\n",
    "for i in range(12):\n",
    "    for j in range(len(nodocks.station_id)):\n",
    "        if (trips1.end_station_id[i]  == nodocks.station_id[j]):\n",
    "            x[i]=nodocks.zero_dock[j]\n",
    "            \n",
    "for i in range(12):\n",
    "    for j in range(len(trips.station_id)):\n",
    "        if(trips1.end_station_id[i] == trips.station_id[j]):\n",
    "            trips.nodocks[j] = x[i]\n",
    "            trips.ended_trips[j] = trips1.end_trips[i]\n",
    "    if j == len(trips.station_id):\n",
    "        trips.loc[len(trips.station_id)] = [trips1.end_station_name[i],trips1.end_station_id[i],0,0,trips1.end_trips[i],x[i]]\n",
    "        \n",
    "trips.style"
   ]
  }
 ],
 "metadata": {
  "environment": {
   "name": "tf2-2-3-gpu.2-3.m55",
   "type": "gcloud",
   "uri": "gcr.io/deeplearning-platform-release/tf2-2-3-gpu.2-3:m55"
  },
  "kernelspec": {
   "display_name": "Python 3",
   "language": "python",
   "name": "python3"
  },
  "language_info": {
   "codemirror_mode": {
    "name": "ipython",
    "version": 3
   },
   "file_extension": ".py",
   "mimetype": "text/x-python",
   "name": "python",
   "nbconvert_exporter": "python",
   "pygments_lexer": "ipython3",
   "version": "3.7.8"
  }
 },
 "nbformat": 4,
 "nbformat_minor": 4
}
